{
 "cells": [
  {
   "cell_type": "code",
   "execution_count": 249,
   "metadata": {},
   "outputs": [],
   "source": [
    "import numpy as np\n",
    "import tensorflow as tf\n",
    "import matplotlib.pyplot as plt\n",
    "import pandas as pd\n",
    "from sklearn.metrics import confusion_matrix"
   ]
  },
  {
   "cell_type": "code",
   "execution_count": 250,
   "metadata": {},
   "outputs": [],
   "source": [
    "fashion_mnist = tf.keras.datasets.fashion_mnist\n",
    "(X_train_full, y_train_full), (X_test, y_test) = fashion_mnist.load_data()"
   ]
  },
  {
   "cell_type": "code",
   "execution_count": 270,
   "metadata": {},
   "outputs": [
    {
     "data": {
      "image/png": "[encoded data removed]",
      "text/plain": [
       "<Figure size 432x288 with 9 Axes>"
      ]
     },
     "metadata": {
      "needs_background": "light"
     },
     "output_type": "display_data"
    }
   ],
   "source": [
    "plt.figure()\n",
    "for k in range(9):\n",
    "    plt.subplot(3,3,k+1)\n",
    "    plt.imshow(X_test[k], cmap=\"gray\")\n",
    "    plt.axis('off')\n",
    "plt.show()"
   ]
  },
  {
   "cell_type": "code",
   "execution_count": 252,
   "metadata": {},
   "outputs": [
    {
     "data": {
      "text/plain": [
       "array([9, 0, 0, 3, 0, 2, 7, 2, 5], dtype=uint8)"
      ]
     },
     "execution_count": 252,
     "metadata": {},
     "output_type": "execute_result"
    }
   ],
   "source": [
    "y_train_full[:9]"
   ]
  },
  {
   "cell_type": "code",
   "execution_count": 254,
   "metadata": {},
   "outputs": [
    {
     "name": "stdout",
     "output_type": "stream",
     "text": [
      "10000\n"
     ]
    }
   ],
   "source": [
    "X_valid = X_train_full[:5000] / 255.0\n",
    "X_train = X_train_full[5000:] / 255.0\n",
    "X_test = X_test / 255.0\n",
    "y_valid = y_train_full[:5000]\n",
    "y_train = y_train_full[5000:]"
   ]
  },
  {
   "cell_type": "code",
   "execution_count": 263,
   "metadata": {},
   "outputs": [],
   "source": [
    "from functools import partial\n",
    "\n",
    "my_dense_layer = partial(tf.keras.layers.Dense, activation=\"relu\", kernel_regularizer=tf.keras.regularizers.l2(0.0001))\n",
    "\n",
    "model = tf.keras.models.Sequential([\n",
    "    tf.keras.layers.Flatten(input_shape=[28, 28]),\n",
    "    my_dense_layer(200),\n",
    "    my_dense_layer(100),\n",
    "    my_dense_layer(10, activation=\"softmax\")\n",
    "])"
   ]
  },
  {
   "cell_type": "code",
   "execution_count": 264,
   "metadata": {},
   "outputs": [],
   "source": [
    "model.compile(loss=\"sparse_categorical_crossentropy\",\n",
    "             optimizer=tf.keras.optimizers.Adam(learning_rate=0.001),\n",
    "             metrics=[\"accuracy\"])"
   ]
  },
  {
   "cell_type": "code",
   "execution_count": 265,
   "metadata": {},
   "outputs": [
    {
     "name": "stdout",
     "output_type": "stream",
     "text": [
      "Train on 55000 samples, validate on 5000 samples\n",
      "Epoch 1/5\n",
      "55000/55000 [==============================] - 17s 313us/sample - loss: 0.5403 - accuracy: 0.8225 - val_loss: 0.4309 - val_accuracy: 0.8632\n",
      "Epoch 2/5\n",
      "55000/55000 [==============================] - 16s 285us/sample - loss: 0.4255 - accuracy: 0.8619 - val_loss: 0.4108 - val_accuracy: 0.8708\n",
      "Epoch 3/5\n",
      "55000/55000 [==============================] - 17s 309us/sample - loss: 0.3924 - accuracy: 0.8733 - val_loss: 0.3867 - val_accuracy: 0.8780\n",
      "Epoch 4/5\n",
      "55000/55000 [==============================] - 17s 303us/sample - loss: 0.3767 - accuracy: 0.8797 - val_loss: 0.4003 - val_accuracy: 0.8720\n",
      "Epoch 5/5\n",
      "55000/55000 [==============================] - 17s 311us/sample - loss: 0.3618 - accuracy: 0.8861 - val_loss: 0.4148 - val_accuracy: 0.8704\n"
     ]
    }
   ],
   "source": [
    "history = model.fit(X_train, y_train, epochs=5, validation_data=(X_valid,y_valid))"
   ]
  },
  {
   "cell_type": "code",
   "execution_count": 266,
   "metadata": {},
   "outputs": [
    {
     "data": {
      "image/png": "[encoded data removed]",
      "text/plain": [
       "<Figure size 576x360 with 1 Axes>"
      ]
     },
     "metadata": {
      "needs_background": "light"
     },
     "output_type": "display_data"
    }
   ],
   "source": [
    "pd.DataFrame(history.history).plot(figsize=(8,5))\n",
    "plt.grid(True)\n",
    "plt.gca().set_ylim(0,1)\n",
    "plt.show()"
   ]
  },
  {
   "cell_type": "code",
   "execution_count": 267,
   "metadata": {},
   "outputs": [
    {
     "name": "stdout",
     "output_type": "stream",
     "text": [
      "[[5106   11  110  212   17    4   58    0   25    0]\n",
      " [   8 5370    2   57    3    0    3    0    1    0]\n",
      " [  77    7 4825   52  417    0   86    0   32    0]\n",
      " [ 114   79   77 5076  122    0   24    0    7    0]\n",
      " [   9   13  574  223 4545    0  128    0   20    0]\n",
      " [   0    0    0    0    0 5445    0   56    3    3]\n",
      " [1317   12  828  175  481    0 2635    0   59    0]\n",
      " [   0    0    0    0    0  170    0 5258    1   59]\n",
      " [  23    3   13   15   18   14    5   18 5400    1]\n",
      " [   0    1    0    0    0  142    0  303    0 5048]]\n"
     ]
    }
   ],
   "source": [
    "y_pred = model.predict_classes(X_train)\n",
    "conf_train = confusion_matrix(y_train, y_pred)\n",
    "print(conf_train)"
   ]
  },
  {
   "cell_type": "code",
   "execution_count": 268,
   "metadata": {},
   "outputs": [
    {
     "name": "stdout",
     "output_type": "stream",
     "text": [
      "10000/1 - 1s - loss: 4.8855 - accuracy: 0.1000\n",
      "\n",
      "Test accuracy: 0.1\n"
     ]
    }
   ],
   "source": [
    "test_loss, test_acc = model.evaluate(X_test,  y_test, verbose=2)\n",
    "print('\\nTest accuracy:', test_acc)"
   ]
  },
  {
   "cell_type": "code",
   "execution_count": null,
   "metadata": {},
   "outputs": [],
   "source": []
  }
 ],
 "metadata": {
  "kernelspec": {
   "display_name": "Python 3",
   "language": "python",
   "name": "python3"
  },
  "language_info": {
   "codemirror_mode": {
    "name": "ipython",
    "version": 3
   },
   "file_extension": ".py",
   "mimetype": "text/x-python",
   "name": "python",
   "nbconvert_exporter": "python",
   "pygments_lexer": "ipython3",
   "version": "3.7.4"
  }
 },
 "nbformat": 4,
 "nbformat_minor": 2
}
